{
 "cells": [
  {
   "cell_type": "code",
   "execution_count": 1,
   "id": "70d37b28-26d1-41cf-875d-4fed080645f1",
   "metadata": {},
   "outputs": [],
   "source": [
    "import json"
   ]
  },
  {
   "cell_type": "code",
   "execution_count": 2,
   "id": "8f54063b-9763-4abb-af04-e27f7e0aff63",
   "metadata": {},
   "outputs": [],
   "source": [
    "# let's write the function to load the data\n",
    "\n",
    "def load_data(filename):\n",
    "    with open(filename , \"r\") as  f:\n",
    "        data = json.load(f)\n",
    "    return data\n"
   ]
  },
  {
   "cell_type": "code",
   "execution_count": 3,
   "id": "a0c04029-cc15-463b-9f90-1be188b29343",
   "metadata": {},
   "outputs": [],
   "source": [
    "data = load_data(\"data.json\")"
   ]
  },
  {
   "cell_type": "code",
   "execution_count": 4,
   "id": "2760187f-ac73-4963-a64e-68a80bbf28ad",
   "metadata": {},
   "outputs": [
    {
     "data": {
      "text/plain": [
       "{'users': [{'id': 1, 'name': 'Amit', 'friends': [2, 3], 'liked_pages': [101]},\n",
       "  {'id': 2, 'name': 'Priya', 'friends': [1, 4], 'liked_pages': [102]},\n",
       "  {'id': 3, 'name': 'Rahul', 'friends': [1], 'liked_pages': [101, 103]},\n",
       "  {'id': 4, 'name': 'Sara', 'friends': [2], 'liked_pages': [104]}],\n",
       " 'pages': [{'id': 101, 'name': 'Python Developers'},\n",
       "  {'id': 102, 'name': 'Data Science Enthusiasts'},\n",
       "  {'id': 103, 'name': 'AI & ML Community'},\n",
       "  {'id': 104, 'name': 'Web Dev Hub'}]}"
      ]
     },
     "execution_count": 4,
     "metadata": {},
     "output_type": "execute_result"
    }
   ],
   "source": [
    "data"
   ]
  },
  {
   "cell_type": "code",
   "execution_count": 5,
   "id": "d051410b-83b4-4526-b928-0c20c8364eb1",
   "metadata": {},
   "outputs": [
    {
     "data": {
      "text/plain": [
       "dict"
      ]
     },
     "execution_count": 5,
     "metadata": {},
     "output_type": "execute_result"
    }
   ],
   "source": [
    "type(data)"
   ]
  },
  {
   "cell_type": "code",
   "execution_count": 13,
   "id": "f24f2117-6497-4798-830d-729dcf915046",
   "metadata": {},
   "outputs": [
    {
     "name": "stdout",
     "output_type": "stream",
     "text": [
      "User and their connections ...\n",
      "\n",
      "Id-1. Amit is friend with [2, 3] and liked pages are [101] \n",
      "Id-2. Priya is friend with [1, 4] and liked pages are [102] \n",
      "Id-3. Rahul is friend with [1] and liked pages are [101, 103] \n",
      "Id-4. Sara is friend with [2] and liked pages are [104] \n",
      "\n",
      "Pages Information...\n",
      "101 : Python Developers\n",
      "102 : Data Science Enthusiasts\n",
      "103 : AI & ML Community\n",
      "104 : Web Dev Hub\n"
     ]
    }
   ],
   "source": [
    "# write the function to display user and their connections\n",
    "def  display_users(data):\n",
    "    print(\"User and their connections ...\\n\")\n",
    "    for user in data[\"users\"]:\n",
    "        print(f\"Id-{user[\"id\"]}. {user[\"name\"]} is friend with {user['friends']} and liked pages are {user['liked_pages']} \")\n",
    "    print(\"\\nPages Information...\")\n",
    "\n",
    "    for page in data[\"pages\"]:\n",
    "        print(f\"{page[\"id\"]} : {page[\"name\"]}\") \n",
    "\n",
    "display_users(data)              \n"
   ]
  },
  {
   "cell_type": "code",
   "execution_count": null,
   "id": "3dd9ddd0-f351-4845-9106-3958855853ca",
   "metadata": {},
   "outputs": [],
   "source": []
  }
 ],
 "metadata": {
  "kernelspec": {
   "display_name": "Python [conda env:base] *",
   "language": "python",
   "name": "conda-base-py"
  },
  "language_info": {
   "codemirror_mode": {
    "name": "ipython",
    "version": 3
   },
   "file_extension": ".py",
   "mimetype": "text/x-python",
   "name": "python",
   "nbconvert_exporter": "python",
   "pygments_lexer": "ipython3",
   "version": "3.13.5"
  }
 },
 "nbformat": 4,
 "nbformat_minor": 5
}
