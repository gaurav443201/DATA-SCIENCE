{
 "cells": [
  {
   "cell_type": "code",
   "execution_count": 4,
   "id": "2232c35e-3af0-4392-bbad-343d5afe37f0",
   "metadata": {},
   "outputs": [
    {
     "name": "stdout",
     "output_type": "stream",
     "text": [
      "[(103, 2), (105, 1), (107, 1), (104, 0), (106, 0), (108, 0), (109, 0), (110, 0), (111, 0), (112, 0), (113, 0), (114, 0), (115, 0), (116, 0), (117, 0), (118, 0), (119, 0), (120, 0), (121, 0), (122, 0), (123, 0), (124, 0), (125, 0), (126, 0), (127, 0)]\n"
     ]
    }
   ],
   "source": [
    "import json\n",
    "\n",
    "#function to load the data\n",
    "def load_data(filename):\n",
    "    with open(filename ,'r') as f:\n",
    "        return json.load(f) \n",
    "\n",
    "#Function to find pages a user might like based on comman interests\n",
    "def find_pages_you_might_like(user_id,data):\n",
    "    user_pages = {}\n",
    "    #populate the dictionary\n",
    "    for user in data['users']:\n",
    "        user_pages[user['id']] = set(user['liked_pages'])\n",
    "\n",
    "    #if the user isin not found , return an empty list\n",
    "    if user_id not in user_pages:\n",
    "        return []\n",
    "\n",
    "    user_liked_pages = user_pages[user_id]\n",
    "    page_suggestion = {}\n",
    "\n",
    "    for other_user, pages in user_pages.items():\n",
    "        if other_user != user_id:\n",
    "            shared_pages = user_liked_pages.intersection(pages)\n",
    "        for page in pages:\n",
    "            if page not in user_liked_pages:\n",
    "                page_suggestion[page] = page_suggestion.get(page,0) + len(shared_pages)\n",
    "\n",
    "    sorted_pages = sorted(page_suggestion.items(), key = lambda x:x[1] , reverse =True)\n",
    "    return [(page_id,score) for page_id, score in sorted_pages]\n",
    "\n",
    "data = load_data('massive_data.json')\n",
    "user_id = 1\n",
    "page_rec = find_pages_you_might_like(user_id,data)\n",
    "print(page_rec)    "
   ]
  },
  {
   "cell_type": "code",
   "execution_count": null,
   "id": "2d18b3e9-78a6-414d-bbb4-0e93fb668843",
   "metadata": {},
   "outputs": [],
   "source": []
  }
 ],
 "metadata": {
  "kernelspec": {
   "display_name": "Python [conda env:base] *",
   "language": "python",
   "name": "conda-base-py"
  },
  "language_info": {
   "codemirror_mode": {
    "name": "ipython",
    "version": 3
   },
   "file_extension": ".py",
   "mimetype": "text/x-python",
   "name": "python",
   "nbconvert_exporter": "python",
   "pygments_lexer": "ipython3",
   "version": "3.13.5"
  }
 },
 "nbformat": 4,
 "nbformat_minor": 5
}
