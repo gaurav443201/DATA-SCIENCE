{
 "cells": [
  {
   "cell_type": "code",
   "execution_count": 14,
   "id": "e4171b32-1a51-4d6c-ab3e-9256252fb932",
   "metadata": {},
   "outputs": [
    {
     "name": "stdout",
     "output_type": "stream",
     "text": [
      "[6, 5, 9, 13, 10, 14]\n"
     ]
    }
   ],
   "source": [
    "import json\n",
    "\n",
    "def load_data(filename):\n",
    "    with open(filename , 'r') as f:\n",
    "        return json.load(f)\n",
    "def find_people_you_may_know(user_id, data):\n",
    "    user_friends = {}\n",
    "    for user in data[\"users\"]:\n",
    "        user_friends[user['id']] = set(user['friends'])\n",
    "\n",
    "    if user_id not in user_friends:\n",
    "        return []\n",
    "    \n",
    "    direct_friends = user_friends[user_id]\n",
    "    suggestions = {}\n",
    "    for friend in direct_friends:\n",
    "        for mutual in user_friends[friend]:\n",
    "            if mutual!= user_id and mutual not in direct_friends:\n",
    "                #count mutual friends\n",
    "                suggestions[mutual] = suggestions.get(mutual,0) +1\n",
    "    sorted_suggestions = sorted(suggestions.items(), key = lambda x:x[1], reverse =True)       \n",
    "    return [ user_id for user_id, mutual_count in sorted_suggestions]\n",
    "    \n",
    "data = load_data('massive_data.json')\n",
    "user_id = 3\n",
    "recc = find_people_you_may_know(user_id, data)\n",
    "print(recc)\n"
   ]
  },
  {
   "cell_type": "code",
   "execution_count": null,
   "id": "97a9694f-895f-45aa-a8bc-617a50bd58aa",
   "metadata": {},
   "outputs": [],
   "source": []
  },
  {
   "cell_type": "code",
   "execution_count": null,
   "id": "c7f59bf3-4b05-4510-9063-ba4f134071f0",
   "metadata": {},
   "outputs": [],
   "source": [
    "\n"
   ]
  },
  {
   "cell_type": "code",
   "execution_count": null,
   "id": "6fd0e25e-238c-4fb0-8c2b-9268f55f180f",
   "metadata": {},
   "outputs": [],
   "source": []
  },
  {
   "cell_type": "code",
   "execution_count": null,
   "id": "7044cb9f-8595-4f55-80dc-5474559d6333",
   "metadata": {},
   "outputs": [],
   "source": []
  }
 ],
 "metadata": {
  "kernelspec": {
   "display_name": "Python [conda env:base] *",
   "language": "python",
   "name": "conda-base-py"
  },
  "language_info": {
   "codemirror_mode": {
    "name": "ipython",
    "version": 3
   },
   "file_extension": ".py",
   "mimetype": "text/x-python",
   "name": "python",
   "nbconvert_exporter": "python",
   "pygments_lexer": "ipython3",
   "version": "3.13.5"
  }
 },
 "nbformat": 4,
 "nbformat_minor": 5
}
