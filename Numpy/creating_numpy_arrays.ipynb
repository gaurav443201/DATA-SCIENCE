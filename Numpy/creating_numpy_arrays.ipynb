{
 "cells": [
  {
   "cell_type": "code",
   "execution_count": 1,
   "id": "0427a58f-d401-40a5-9f7f-a0b473033a58",
   "metadata": {},
   "outputs": [],
   "source": [
    "import numpy as np"
   ]
  },
  {
   "cell_type": "code",
   "execution_count": 2,
   "id": "adfef535-fde8-4c03-b4cb-0bcb3703fa14",
   "metadata": {},
   "outputs": [
    {
     "name": "stdout",
     "output_type": "stream",
     "text": [
      "Requirement already satisfied: numpy in c:\\users\\navgh\\appdata\\roaming\\python\\python313\\site-packages (2.3.0)\n"
     ]
    }
   ],
   "source": [
    "!pip install numpy"
   ]
  },
  {
   "cell_type": "code",
   "execution_count": 5,
   "id": "5c87ac8d-0056-4b3e-9ffc-15684e6e8d21",
   "metadata": {},
   "outputs": [],
   "source": [
    "arr1 = np.array([1,2,3])"
   ]
  },
  {
   "cell_type": "code",
   "execution_count": 6,
   "id": "29b28d0d-45a2-4eae-9b21-14c2fc63f9d1",
   "metadata": {},
   "outputs": [
    {
     "data": {
      "text/plain": [
       "array([1, 2, 3])"
      ]
     },
     "execution_count": 6,
     "metadata": {},
     "output_type": "execute_result"
    }
   ],
   "source": [
    "arr1"
   ]
  },
  {
   "cell_type": "code",
   "execution_count": 7,
   "id": "d4d4f741-a10e-4650-8749-34210cf918dc",
   "metadata": {},
   "outputs": [],
   "source": [
    "arr2 = np.array([[1,2,3],[3,5,6]])"
   ]
  },
  {
   "cell_type": "code",
   "execution_count": 8,
   "id": "0ed8f002-2b23-4c0c-8f3a-dc65801fdbb0",
   "metadata": {},
   "outputs": [
    {
     "data": {
      "text/plain": [
       "array([[1, 2, 3],\n",
       "       [3, 5, 6]])"
      ]
     },
     "execution_count": 8,
     "metadata": {},
     "output_type": "execute_result"
    }
   ],
   "source": [
    "arr2"
   ]
  },
  {
   "cell_type": "code",
   "execution_count": 10,
   "id": "048ac37e-90a7-4c60-ad10-e781d0adea54",
   "metadata": {},
   "outputs": [
    {
     "data": {
      "text/plain": [
       "array([[0., 0., 0., 0.],\n",
       "       [0., 0., 0., 0.],\n",
       "       [0., 0., 0., 0.]])"
      ]
     },
     "execution_count": 10,
     "metadata": {},
     "output_type": "execute_result"
    }
   ],
   "source": [
    "np.zeros((3,4)) #toh hame mil gaya 3 by 4 ka zero array"
   ]
  },
  {
   "cell_type": "code",
   "execution_count": 11,
   "id": "a9ca2ead-2a06-457e-adf7-3a79013fdac7",
   "metadata": {},
   "outputs": [
    {
     "data": {
      "text/plain": [
       "array([[1., 1., 1., 1.],\n",
       "       [1., 1., 1., 1.],\n",
       "       [1., 1., 1., 1.]])"
      ]
     },
     "execution_count": 11,
     "metadata": {},
     "output_type": "execute_result"
    }
   ],
   "source": [
    "np.ones((3,4))"
   ]
  },
  {
   "cell_type": "code",
   "execution_count": 12,
   "id": "9b537ba7-f628-461a-a735-79fdb1984f48",
   "metadata": {},
   "outputs": [
    {
     "data": {
      "text/plain": [
       "array([[5, 5, 5, 5, 5, 5],\n",
       "       [5, 5, 5, 5, 5, 5],\n",
       "       [5, 5, 5, 5, 5, 5],\n",
       "       [5, 5, 5, 5, 5, 5]])"
      ]
     },
     "execution_count": 12,
     "metadata": {},
     "output_type": "execute_result"
    }
   ],
   "source": [
    "np.full((4,6),5)"
   ]
  },
  {
   "cell_type": "code",
   "execution_count": 13,
   "id": "52bdd61c-921a-4a1f-85cf-13b001a0915d",
   "metadata": {},
   "outputs": [
    {
     "data": {
      "text/plain": [
       "array([[1., 0., 0., 0.],\n",
       "       [0., 1., 0., 0.],\n",
       "       [0., 0., 1., 0.],\n",
       "       [0., 0., 0., 1.]])"
      ]
     },
     "execution_count": 13,
     "metadata": {},
     "output_type": "execute_result"
    }
   ],
   "source": [
    "np.eye(4)  #identy matrix "
   ]
  },
  {
   "cell_type": "code",
   "execution_count": 14,
   "id": "38e5f538-5e7b-450f-9b34-3335ced25225",
   "metadata": {},
   "outputs": [
    {
     "data": {
      "text/plain": [
       "array([ 0,  5, 10, 15, 20, 25, 30, 35, 40, 45])"
      ]
     },
     "execution_count": 14,
     "metadata": {},
     "output_type": "execute_result"
    }
   ],
   "source": [
    "np.arange(0,50,5) #50-1 = 49 "
   ]
  },
  {
   "cell_type": "code",
   "execution_count": 20,
   "id": "c108cd5d-011f-4e1d-9cdb-44aa83b9fd64",
   "metadata": {},
   "outputs": [
    {
     "data": {
      "text/plain": [
       "array([  0.,  25.,  50.,  75., 100.])"
      ]
     },
     "execution_count": 20,
     "metadata": {},
     "output_type": "execute_result"
    }
   ],
   "source": [
    "np.linspace(0,100,5)\n"
   ]
  },
  {
   "cell_type": "code",
   "execution_count": 24,
   "id": "62ad9f38-5dad-40f0-89ae-acc4c6545cc6",
   "metadata": {},
   "outputs": [
    {
     "data": {
      "text/plain": [
       "array([ 0.        ,  1.42857143,  2.85714286,  4.28571429,  5.71428571,\n",
       "        7.14285714,  8.57142857, 10.        ])"
      ]
     },
     "execution_count": 24,
     "metadata": {},
     "output_type": "execute_result"
    }
   ],
   "source": [
    "np.linspace(0,10,8)"
   ]
  },
  {
   "cell_type": "code",
   "execution_count": 25,
   "id": "3a84feeb-8abd-470f-b84c-3f45ed821c30",
   "metadata": {},
   "outputs": [],
   "source": [
    "myarr = np.array([[1,2,3],[4,5,6],[7,8,9],[10,11,12]])"
   ]
  },
  {
   "cell_type": "code",
   "execution_count": 26,
   "id": "a7699864-a781-4974-8708-53e9d17b0222",
   "metadata": {},
   "outputs": [
    {
     "data": {
      "text/plain": [
       "array([[ 1,  2,  3],\n",
       "       [ 4,  5,  6],\n",
       "       [ 7,  8,  9],\n",
       "       [10, 11, 12]])"
      ]
     },
     "execution_count": 26,
     "metadata": {},
     "output_type": "execute_result"
    }
   ],
   "source": [
    "myarr"
   ]
  },
  {
   "cell_type": "code",
   "execution_count": 30,
   "id": "f378db6d-20b2-49e3-a7c9-d214d4193ced",
   "metadata": {},
   "outputs": [
    {
     "data": {
      "text/plain": [
       "(4, 3)"
      ]
     },
     "execution_count": 30,
     "metadata": {},
     "output_type": "execute_result"
    }
   ],
   "source": [
    "myarr.shape # x:y"
   ]
  },
  {
   "cell_type": "code",
   "execution_count": 29,
   "id": "d561a9e1-4306-4639-abaa-9574738c8d3f",
   "metadata": {},
   "outputs": [
    {
     "data": {
      "text/plain": [
       "12"
      ]
     },
     "execution_count": 29,
     "metadata": {},
     "output_type": "execute_result"
    }
   ],
   "source": [
    "myarr.size #total no. of element  "
   ]
  },
  {
   "cell_type": "code",
   "execution_count": 31,
   "id": "c2104819-322c-470f-8749-65524f8c25ce",
   "metadata": {},
   "outputs": [
    {
     "data": {
      "text/plain": [
       "2"
      ]
     },
     "execution_count": 31,
     "metadata": {},
     "output_type": "execute_result"
    }
   ],
   "source": [
    "myarr.ndim"
   ]
  },
  {
   "cell_type": "code",
   "execution_count": 32,
   "id": "165270a7-f6fc-43de-8b00-5306e06f375f",
   "metadata": {},
   "outputs": [
    {
     "data": {
      "text/plain": [
       "dtype('int64')"
      ]
     },
     "execution_count": 32,
     "metadata": {},
     "output_type": "execute_result"
    }
   ],
   "source": [
    "myarr.dtype"
   ]
  },
  {
   "cell_type": "code",
   "execution_count": 34,
   "id": "d151540e-a4ea-4ce7-85a2-cc69771e481a",
   "metadata": {},
   "outputs": [],
   "source": [
    "myarr1 = np.array([[1,2,3],[4,5,6],[7,8,9],[10,11,12]],dtype= 'float32')"
   ]
  },
  {
   "cell_type": "code",
   "execution_count": 35,
   "id": "8bdcfda3-eb1a-4247-9e08-faea9c3fda54",
   "metadata": {},
   "outputs": [
    {
     "data": {
      "text/plain": [
       "array([[ 1.,  2.,  3.],\n",
       "       [ 4.,  5.,  6.],\n",
       "       [ 7.,  8.,  9.],\n",
       "       [10., 11., 12.]], dtype=float32)"
      ]
     },
     "execution_count": 35,
     "metadata": {},
     "output_type": "execute_result"
    }
   ],
   "source": [
    "myarr1"
   ]
  },
  {
   "cell_type": "code",
   "execution_count": 38,
   "id": "12ad738b-cdf6-43cd-988a-589dc2a575dc",
   "metadata": {},
   "outputs": [],
   "source": [
    "n = myarr.astype('float64')"
   ]
  },
  {
   "cell_type": "code",
   "execution_count": 39,
   "id": "f314f210-8b48-4c09-a019-3f2d32c0f2a9",
   "metadata": {},
   "outputs": [
    {
     "data": {
      "text/plain": [
       "dtype('float32')"
      ]
     },
     "execution_count": 39,
     "metadata": {},
     "output_type": "execute_result"
    }
   ],
   "source": [
    "myarr.dtype"
   ]
  },
  {
   "cell_type": "code",
   "execution_count": 40,
   "id": "6fe4dec5-1a9a-4229-bd9b-c25bb73c4fda",
   "metadata": {},
   "outputs": [],
   "source": [
    "myarr2 = np.array([[1,2,3],[4,5,6],[7,8,9],[10,11,12]])\n"
   ]
  },
  {
   "cell_type": "code",
   "execution_count": 41,
   "id": "4d7dcaf3-de02-4496-9ecd-8afeece49c29",
   "metadata": {},
   "outputs": [
    {
     "data": {
      "text/plain": [
       "(4, 3)"
      ]
     },
     "execution_count": 41,
     "metadata": {},
     "output_type": "execute_result"
    }
   ],
   "source": [
    "myarr2.shape"
   ]
  },
  {
   "cell_type": "code",
   "execution_count": 42,
   "id": "be17d6e9-5f7c-405a-8181-0e555ca4c0d7",
   "metadata": {},
   "outputs": [],
   "source": [
    "reshaped = myarr2.reshape((3,4))"
   ]
  },
  {
   "cell_type": "code",
   "execution_count": 43,
   "id": "f0df0b66-af12-426b-9692-267b00b51ccd",
   "metadata": {},
   "outputs": [
    {
     "data": {
      "text/plain": [
       "array([[ 1,  2,  3,  4],\n",
       "       [ 5,  6,  7,  8],\n",
       "       [ 9, 10, 11, 12]])"
      ]
     },
     "execution_count": 43,
     "metadata": {},
     "output_type": "execute_result"
    }
   ],
   "source": [
    "reshaped"
   ]
  },
  {
   "cell_type": "code",
   "execution_count": 44,
   "id": "7366ed31-c5e6-40dd-9036-8be754d9c0e2",
   "metadata": {},
   "outputs": [
    {
     "data": {
      "text/plain": [
       "array([[ 1,  2,  3],\n",
       "       [ 4,  5,  6],\n",
       "       [ 7,  8,  9],\n",
       "       [10, 11, 12]])"
      ]
     },
     "execution_count": 44,
     "metadata": {},
     "output_type": "execute_result"
    }
   ],
   "source": [
    "myarr2"
   ]
  },
  {
   "cell_type": "code",
   "execution_count": 46,
   "id": "b5ce45a7-f7c0-41e3-835e-8c4dc5184659",
   "metadata": {},
   "outputs": [],
   "source": [
    "reshaped1 = myarr2.reshape((2,6))  #2 x 6 = 12 "
   ]
  },
  {
   "cell_type": "code",
   "execution_count": 47,
   "id": "4c2f4389-e834-4732-9397-910782c1d078",
   "metadata": {},
   "outputs": [
    {
     "data": {
      "text/plain": [
       "array([[ 1,  2,  3,  4,  5,  6],\n",
       "       [ 7,  8,  9, 10, 11, 12]])"
      ]
     },
     "execution_count": 47,
     "metadata": {},
     "output_type": "execute_result"
    }
   ],
   "source": [
    "reshaped1"
   ]
  },
  {
   "cell_type": "raw",
   "id": "5d042c4d-7946-4722-bb94-dff9a9c57600",
   "metadata": {},
   "source": [
    "myarr.flatten()"
   ]
  },
  {
   "cell_type": "code",
   "execution_count": null,
   "id": "04c6d001-920a-4301-b094-599e2c93014c",
   "metadata": {},
   "outputs": [],
   "source": []
  }
 ],
 "metadata": {
  "kernelspec": {
   "display_name": "Python [conda env:base] *",
   "language": "python",
   "name": "conda-base-py"
  },
  "language_info": {
   "codemirror_mode": {
    "name": "ipython",
    "version": 3
   },
   "file_extension": ".py",
   "mimetype": "text/x-python",
   "name": "python",
   "nbconvert_exporter": "python",
   "pygments_lexer": "ipython3",
   "version": "3.13.5"
  }
 },
 "nbformat": 4,
 "nbformat_minor": 5
}
