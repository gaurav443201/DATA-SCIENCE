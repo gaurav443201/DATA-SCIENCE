{
 "cells": [
  {
   "cell_type": "code",
   "execution_count": 1,
   "id": "4d2e2afb-5010-4bc9-84dc-e542d583faef",
   "metadata": {},
   "outputs": [],
   "source": [
    "import numpy as np\n",
    "\n",
    "arr= np.array([[1,2,3],[4,5,6],[7,8,9],[10,11,12]])"
   ]
  },
  {
   "cell_type": "code",
   "execution_count": 2,
   "id": "7493ee25-5b25-4ed8-b27a-43e34bdb755e",
   "metadata": {},
   "outputs": [
    {
     "data": {
      "text/plain": [
       "array([[ 1,  2,  3],\n",
       "       [ 4,  5,  6],\n",
       "       [ 7,  8,  9],\n",
       "       [10, 11, 12]])"
      ]
     },
     "execution_count": 2,
     "metadata": {},
     "output_type": "execute_result"
    }
   ],
   "source": [
    "arr"
   ]
  },
  {
   "cell_type": "code",
   "execution_count": 3,
   "id": "40c8cea5-a9b9-47cd-ba6e-e1b90b17a106",
   "metadata": {},
   "outputs": [],
   "source": [
    "flat = arr.flatten()\n"
   ]
  },
  {
   "cell_type": "code",
   "execution_count": 4,
   "id": "7382deff-7535-46a6-bc0b-bcf67be04a7e",
   "metadata": {},
   "outputs": [
    {
     "data": {
      "text/plain": [
       "array([ 1,  2,  3,  4,  5,  6,  7,  8,  9, 10, 11, 12])"
      ]
     },
     "execution_count": 4,
     "metadata": {},
     "output_type": "execute_result"
    }
   ],
   "source": [
    "\n",
    "flat"
   ]
  },
  {
   "cell_type": "code",
   "execution_count": 5,
   "id": "f31577bf-f2a8-499a-8fff-68e24b34cbed",
   "metadata": {},
   "outputs": [
    {
     "data": {
      "text/plain": [
       "np.int64(1)"
      ]
     },
     "execution_count": 5,
     "metadata": {},
     "output_type": "execute_result"
    }
   ],
   "source": [
    "flat[0]"
   ]
  },
  {
   "cell_type": "code",
   "execution_count": 6,
   "id": "b75cdb80-f58d-479f-930a-485507e91535",
   "metadata": {},
   "outputs": [
    {
     "data": {
      "text/plain": [
       "array([4, 5, 6])"
      ]
     },
     "execution_count": 6,
     "metadata": {},
     "output_type": "execute_result"
    }
   ],
   "source": [
    "flat[3:6]"
   ]
  },
  {
   "cell_type": "code",
   "execution_count": 7,
   "id": "b25ede8b-9ce4-4e25-8c39-463cb72d4168",
   "metadata": {},
   "outputs": [
    {
     "data": {
      "text/plain": [
       "array([ 4,  5,  6,  7,  8,  9, 10, 11, 12])"
      ]
     },
     "execution_count": 7,
     "metadata": {},
     "output_type": "execute_result"
    }
   ],
   "source": [
    "flat[3:]"
   ]
  },
  {
   "cell_type": "code",
   "execution_count": 8,
   "id": "ca8b0dfb-c02e-498c-8f8e-920720445572",
   "metadata": {},
   "outputs": [
    {
     "data": {
      "text/plain": [
       "array([1, 2, 3, 4, 5])"
      ]
     },
     "execution_count": 8,
     "metadata": {},
     "output_type": "execute_result"
    }
   ],
   "source": [
    "flat[:5]"
   ]
  },
  {
   "cell_type": "code",
   "execution_count": 9,
   "id": "473a8ca1-c717-4013-bac7-da01e4c857ab",
   "metadata": {},
   "outputs": [
    {
     "data": {
      "text/plain": [
       "array([ 1,  2,  3,  4,  5,  6,  7,  8,  9, 10, 11, 12])"
      ]
     },
     "execution_count": 9,
     "metadata": {},
     "output_type": "execute_result"
    }
   ],
   "source": [
    "flat\n"
   ]
  },
  {
   "cell_type": "code",
   "execution_count": 19,
   "id": "bee126cd-7a39-4532-b6fd-f180de334e4d",
   "metadata": {},
   "outputs": [],
   "source": [
    "b = flat[3:7].copy()  #copy bana lii  "
   ]
  },
  {
   "cell_type": "code",
   "execution_count": 20,
   "id": "d6eb7502-0880-45c0-a9c7-1c2f093eb4e5",
   "metadata": {},
   "outputs": [
    {
     "data": {
      "text/plain": [
       "array([4, 5, 6, 7])"
      ]
     },
     "execution_count": 20,
     "metadata": {},
     "output_type": "execute_result"
    }
   ],
   "source": [
    "b"
   ]
  },
  {
   "cell_type": "code",
   "execution_count": 21,
   "id": "3a8ea356-e2a4-4a08-bda2-1fcc51410de5",
   "metadata": {},
   "outputs": [],
   "source": [
    "b[0] =4444444444"
   ]
  },
  {
   "cell_type": "code",
   "execution_count": 22,
   "id": "be77a40d-44c9-4bbe-9add-f194b694b08d",
   "metadata": {},
   "outputs": [
    {
     "data": {
      "text/plain": [
       "array([4444444444,          5,          6,          7])"
      ]
     },
     "execution_count": 22,
     "metadata": {},
     "output_type": "execute_result"
    }
   ],
   "source": [
    "b"
   ]
  },
  {
   "cell_type": "code",
   "execution_count": 23,
   "id": "e737c94e-10f7-4428-b7fb-48ebaa8d5ccd",
   "metadata": {},
   "outputs": [
    {
     "data": {
      "text/plain": [
       "array([ 1,  2,  3,  4,  5,  6,  7,  8,  9, 10, 11, 12])"
      ]
     },
     "execution_count": 23,
     "metadata": {},
     "output_type": "execute_result"
    }
   ],
   "source": [
    "flat"
   ]
  },
  {
   "cell_type": "code",
   "execution_count": 34,
   "id": "232a0aeb-bb8c-404f-94a8-659981d59678",
   "metadata": {},
   "outputs": [],
   "source": [
    "arr = np.array(([ 51,  42,  73,  64,  55,  46,  37,  28,  39, 10, 11, 12]))\n"
   ]
  },
  {
   "cell_type": "code",
   "execution_count": 35,
   "id": "a857030d-8102-4e2e-8d31-5011b6d03045",
   "metadata": {},
   "outputs": [
    {
     "data": {
      "text/plain": [
       "array([42, 55, 37])"
      ]
     },
     "execution_count": 35,
     "metadata": {},
     "output_type": "execute_result"
    }
   ],
   "source": [
    "arr[[1,4,6]]"
   ]
  },
  {
   "cell_type": "code",
   "execution_count": 36,
   "id": "8e2b9815-c309-406d-b661-40690d57d033",
   "metadata": {},
   "outputs": [
    {
     "data": {
      "text/plain": [
       "array([51, 73, 64, 55])"
      ]
     },
     "execution_count": 36,
     "metadata": {},
     "output_type": "execute_result"
    }
   ],
   "source": [
    "arr[arr>50]"
   ]
  },
  {
   "cell_type": "code",
   "execution_count": 37,
   "id": "5e8ca790-21d8-4940-b53c-62aa7e47e9c3",
   "metadata": {},
   "outputs": [
    {
     "name": "stdout",
     "output_type": "stream",
     "text": [
      "1) 3x3 Random Array:\n",
      " [[0.38097451 0.95193777 0.11854748]\n",
      " [0.68914981 0.38600777 0.56797915]\n",
      " [0.69423319 0.47143347 0.57450528]]\n",
      "Shape: (3, 3)\n",
      "\n",
      "2) Integer Array: [1 2 3]\n",
      "\n",
      "3) Even Numbers (Fancy Indexing): [2 4 6]\n",
      "\n",
      "4) Reshaped 3x3 Matrix:\n",
      " [[0 1 2]\n",
      " [3 4 5]\n",
      " [6 7 8]]\n",
      "\n",
      "5) Numbers > 50 (Boolean Masking): [55 75 90]\n"
     ]
    }
   ],
   "source": [
    "import numpy as np\n",
    "\n",
    "# 1) Create a 3×3 array filled with random numbers and print its shape.\n",
    "arr1 = np.random.rand(3, 3)\n",
    "print(\"1) 3x3 Random Array:\\n\", arr1)\n",
    "print(\"Shape:\", arr1.shape)\n",
    "\n",
    "# 2) Convert an array of floats [1.1, 2.2, 3.3] into integers.\n",
    "float_arr = np.array([1.1, 2.2, 3.3])\n",
    "int_arr = float_arr.astype(int)\n",
    "print(\"\\n2) Integer Array:\", int_arr)\n",
    "\n",
    "# 3) Use fancy indexing to extract even numbers from [1, 2, 3, 4, 5, 6].\n",
    "original = np.array([1, 2, 3, 4, 5, 6])\n",
    "even_indices = np.where(original % 2 == 0)\n",
    "even_numbers = original[even_indices]\n",
    "print(\"\\n3) Even Numbers (Fancy Indexing):\", even_numbers)\n",
    "\n",
    "# 4) Reshape a 1D array of size 9 into a 3×3 matrix.\n",
    "arr2 = np.arange(9)  # or use any array of size 9\n",
    "reshaped = arr2.reshape((3, 3))\n",
    "print(\"\\n4) Reshaped 3x3 Matrix:\\n\", reshaped)\n",
    "\n",
    "# 5) Use boolean masking to filter numbers greater than 50 in an array.\n",
    "arr3 = np.array([10, 55, 32, 75, 48, 90])\n",
    "filtered = arr3[arr3 > 50]\n",
    "print(\"\\n5) Numbers > 50 (Boolean Masking):\", filtered)\n"
   ]
  },
  {
   "cell_type": "code",
   "execution_count": null,
   "id": "41754706-bfc5-489f-b070-fecc01d03315",
   "metadata": {},
   "outputs": [],
   "source": []
  }
 ],
 "metadata": {
  "kernelspec": {
   "display_name": "Python [conda env:base] *",
   "language": "python",
   "name": "conda-base-py"
  },
  "language_info": {
   "codemirror_mode": {
    "name": "ipython",
    "version": 3
   },
   "file_extension": ".py",
   "mimetype": "text/x-python",
   "name": "python",
   "nbconvert_exporter": "python",
   "pygments_lexer": "ipython3",
   "version": "3.13.5"
  }
 },
 "nbformat": 4,
 "nbformat_minor": 5
}
